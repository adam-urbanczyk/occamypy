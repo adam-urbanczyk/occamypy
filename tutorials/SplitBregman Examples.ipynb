{
 "cells": [
  {
   "cell_type": "markdown",
   "metadata": {
    "collapsed": true,
    "pycharm": {
     "name": "#%% md\n"
    }
   },
   "source": [
    "# The Split-Bregman Algorithm: Sparsity Enforcing Inversions\n",
    "\n",
    "@Author: Francesco Picetti - francesco.picetti@polimi.it"
   ]
  },
  {
   "cell_type": "markdown",
   "metadata": {},
   "source": [
    "In this notebook we will show the Split-Bregman algorithm,\n",
    "as described by [Goldstein and Osher, 2009](https://doi.org/10.1137/080725891).\n",
    "\n",
    "In its generalized unconstrained formulation (the same we handle in this library), this algorithm\n",
    "takes what we call `ProblemLinearReg` (see `pyProblem.py`):\n",
    "\n",
    "\\begin{equation}\n",
    "    \\arg \\min_\\mathbf{m} \\Vert  \\mathbf{A} \\mathbf{m} - \\mathbf{d}\\Vert_2^2 + \\sum_i \\varepsilon_{L2,i}\\Vert \\mathbf{R}_{L2,i} \\mathbf{m} - \\mathbf{p}_i\\Vert_2^2 + \\sum_i \\varepsilon_{L1,i}\\Vert \\mathbf{R}_{L1,i} \\mathbf{m}\\Vert_1,\n",
    "\\end{equation}\n",
    "\n",
    "being $\\mathbf{m}$ our model, $\\mathbf{d}$ the observed data, $\\mathbf{A}$ a linear modeling operator,\n",
    "$\\mathbf{R}_{L2,i}$ the $i$-th linear regularizer to which we associate a prior $\\mathbf{p}_i$ along with its weight $\\varepsilon_{L2,i}$,\n",
    "$\\mathbf{R}_{L1,i}$ the $i$-th sparsity promoting regularizer and its weight $\\varepsilon_{L1,i}$."
   ]
  },
  {
   "cell_type": "markdown",
   "metadata": {},
   "source": [
    "#### Import modules"
   ]
  },
  {
   "cell_type": "code",
   "execution_count": 2,
   "metadata": {
    "pycharm": {
     "name": "#%%\n"
    }
   },
   "outputs": [
    {
     "ename": "ModuleNotFoundError",
     "evalue": "No module named 'genericIO'",
     "output_type": "error",
     "traceback": [
      "\u001B[0;31m---------------------------------------------------------------------------\u001B[0m",
      "\u001B[0;31mModuleNotFoundError\u001B[0m                       Traceback (most recent call last)",
      "\u001B[0;32m<ipython-input-2-a1e5eb5e970b>\u001B[0m in \u001B[0;36m<module>\u001B[0;34m\u001B[0m\n\u001B[1;32m      1\u001B[0m \u001B[0;31m# Importing necessary modules\u001B[0m\u001B[0;34m\u001B[0m\u001B[0;34m\u001B[0m\u001B[0;34m\u001B[0m\u001B[0m\n\u001B[1;32m      2\u001B[0m \u001B[0;32mimport\u001B[0m \u001B[0mos\u001B[0m\u001B[0;34m\u001B[0m\u001B[0;34m\u001B[0m\u001B[0m\n\u001B[0;32m----> 3\u001B[0;31m \u001B[0;32mimport\u001B[0m \u001B[0mgenericIO\u001B[0m\u001B[0;34m\u001B[0m\u001B[0;34m\u001B[0m\u001B[0m\n\u001B[0m\u001B[1;32m      4\u001B[0m \u001B[0;32mimport\u001B[0m \u001B[0mnumpy\u001B[0m \u001B[0;32mas\u001B[0m \u001B[0mnp\u001B[0m\u001B[0;34m\u001B[0m\u001B[0;34m\u001B[0m\u001B[0m\n\u001B[1;32m      5\u001B[0m \u001B[0;32mimport\u001B[0m \u001B[0mpyOperator\u001B[0m \u001B[0;32mas\u001B[0m \u001B[0mpyOp\u001B[0m\u001B[0;34m\u001B[0m\u001B[0;34m\u001B[0m\u001B[0m\n",
      "\u001B[0;31mModuleNotFoundError\u001B[0m: No module named 'genericIO'"
     ]
    }
   ],
   "source": [
    "# Importing necessary modules\n",
    "import os\n",
    "import genericIO\n",
    "import numpy as np\n",
    "import pyOperator as pyOp\n",
    "import pyVector as pyVec\n",
    "import pyNpOperator as NpOp\n",
    "from pyProblem import ProblemLinearReg, ProblemL2Linear, ProblemL1Lasso\n",
    "from pyLinearSolver import LSQRsolver, LCGsolver\n",
    "from pySparseSolver import ISTAsolver, SplitBregmanSolver\n",
    "from pyStopper import BasicStopper\n",
    "from sys_util import logger\n",
    "\n",
    "# Plotting library\n",
    "from matplotlib import pyplot as plt\n",
    "import matplotlib\n",
    "from mpl_toolkits.axes_grid1 import make_axes_locatable\n",
    "%matplotlib inline\n",
    "params = {\n",
    "    'image.cmap': 'gray',\n",
    "    'axes.grid': False,\n",
    "    'savefig.dpi': 300,  # to adjust notebook inline plot size\n",
    "    'axes.labelsize': 14, # fontsize for x and y labels (was 10)\n",
    "    'axes.titlesize': 14,\n",
    "    'font.size': 14,\n",
    "    'legend.fontsize': 14,\n",
    "    'xtick.labelsize': 14,\n",
    "    'ytick.labelsize': 14,\n",
    "    'text.usetex':True\n",
    "}\n",
    "matplotlib.rcParams.update(params)"
   ]
  },
  {
   "cell_type": "markdown",
   "metadata": {},
   "source": [
    "##  Example 1:  1D Ricker Deconvolution\n",
    "\n",
    "In this example we want to invert a 1D seismic trace for the Earth's reflectivity.\n",
    "We suppose the wavelet to be known, yielding  to a deterministic deconvolution problem."
   ]
  },
  {
   "cell_type": "code",
   "execution_count": null,
   "metadata": {
    "pycharm": {
     "name": "#%%\n"
    }
   },
   "outputs": [],
   "source": [
    "# load wavelet\n",
    "ricker = genericIO.defaultIO.getVector(\"../testdata/ricker1.H\")\n",
    "waveletHyper = ricker.getHyper()\n",
    "nt = waveletHyper.getAxis(1).n\n",
    "ot = waveletHyper.getAxis(1).o\n",
    "dt = waveletHyper.getAxis(1).d\n",
    "\n",
    "# load reflectivity\n",
    "model = genericIO.defaultIO.getVector('../testdata/ref_randomspikes.H')\n",
    "\n",
    "# instantating operator\n",
    "A = NpOp.ConvNDscipy(model, ricker)\n",
    "\n",
    "# Generating true recorded trace\n",
    "data = A * model"
   ]
  },
  {
   "cell_type": "code",
   "execution_count": null,
   "metadata": {
    "pycharm": {
     "name": "#%%\n"
    }
   },
   "outputs": [],
   "source": [
    "fig, ax = plt.subplots(figsize=(5,3))\n",
    "time_range = np.linspace(ot,ot+(nt-1)*dt,nt)\n",
    "plt.plot(np.linspace(ot,ot+(nt-1)*dt,nt), ricker.getNdArray())\n",
    "plt.title('Wavelet'), plt.xlabel(\"Time [s]\"), plt.ylabel(\"Amplitude\")\n",
    "ax.autoscale(enable=True, axis='x', tight=True)\n",
    "plt.show()\n",
    "\n",
    "fig, ax = plt.subplots(figsize=(12, 3))\n",
    "plt.plot(model.getNdArray(), 'k',  label='model')\n",
    "plt.plot(data.getNdArray(), 'b',  label='data')\n",
    "ax.autoscale(enable=True, axis='x', tight=True)\n",
    "plt.ylim(-1., 1.)\n",
    "plt.legend()\n",
    "plt.grid(True)\n",
    "plt.show()"
   ]
  },
  {
   "cell_type": "markdown",
   "metadata": {},
   "source": [
    "#### Solve with Conjugate Gradient\n",
    "\n",
    "Conjugate gradient is a fast and powerful adjoint-state algorithm for solving problems in the form:\n",
    "\n",
    "\\begin{equation}\n",
    "    \\hat{\\mathbf{m}} = \\arg \\min_\\mathbf{m} \\Vert \\mathbf{A}\\mathbf{m} - \\mathbf{d}\\Vert_2^2\n",
    "\\end{equation}"
   ]
  },
  {
   "cell_type": "code",
   "execution_count": null,
   "metadata": {
    "pycharm": {
     "name": "#%%\n"
    }
   },
   "outputs": [],
   "source": [
    "# instantiate a linear L2 problem\n",
    "problemCG = ProblemL2Linear(model.clone().zero(), data, A)\n",
    "\n",
    "# define the solver with 10'000 iterations\n",
    "CG = LCGsolver(BasicStopper(10000))\n",
    "\n",
    "# solve the problem\n",
    "CG.run(problemCG, verbose=True)"
   ]
  },
  {
   "cell_type": "code",
   "execution_count": null,
   "metadata": {
    "pycharm": {
     "name": "#%%\n"
    }
   },
   "outputs": [],
   "source": [
    "fig, ax = plt.subplots(figsize=(12, 3))\n",
    "plt.plot(model.getNdArray(), 'k', label=\"true model\")\n",
    "plt.plot(problemCG.model.getNdArray(), 'r--', label=\"CG\")\n",
    "plt.title('Conjugate Gradient, %d iterations' % CG.stopper.niter)\n",
    "plt.ylim(-1., 1.)\n",
    "ax.autoscale(enable=True, axis='x', tight=True)\n",
    "plt.grid(True)\n",
    "plt.legend()\n",
    "plt.show()"
   ]
  },
  {
   "cell_type": "markdown",
   "metadata": {},
   "source": [
    "#### Impose sparsity in the solution: FISTA\n",
    "\n",
    "Iterative Shrinkage-Thresholding Algorithms solve the so-called LASSO problem:\n",
    "\\begin{equation}\n",
    "    \\hat{\\mathbf{m}} = \\arg \\min_\\mathbf{m} \\Vert \\mathbf{A}\\mathbf{m} - \\mathbf{d}\\Vert_2^2 + \\lambda \\Vert \\mathbf{m}\\Vert_1\n",
    "\\end{equation}\n",
    "\n",
    "If we provide the operator's maximum eigenvalue $\\eta$ we can build a fast version\n",
    "of this algorithm by imposing the step $\\alpha < 1/\\eta^2$ as proposed in [Beck and Teboulle, 2009](https://doi.org/10.1137/080716542)."
   ]
  },
  {
   "cell_type": "code",
   "execution_count": null,
   "metadata": {
    "pycharm": {
     "name": "#%%\n"
    }
   },
   "outputs": [],
   "source": [
    "# compute maximum eigenvalue\n",
    "maxeig = A.powerMethod()\n",
    "print('FISTA α=%.6e' % (1/(maxeig**2)))\n",
    "\n",
    "# define the LASSO problem\n",
    "problemFISTA = ProblemL1Lasso(model.clone().zero(), data, A, lambda_value=1, op_norm=maxeig**2)\n",
    "\n",
    "# instantiate the fast solver with 1000 iterations\n",
    "FISTA = ISTAsolver(BasicStopper(1000), fast=True)\n",
    "\n",
    "# solve the problem\n",
    "FISTA.run(problemFISTA, verbose=True)"
   ]
  },
  {
   "cell_type": "code",
   "execution_count": null,
   "metadata": {
    "pycharm": {
     "name": "#%%\n"
    }
   },
   "outputs": [],
   "source": [
    "fig, ax = plt.subplots(figsize=(12,3))\n",
    "plt.plot(model.getNdArray(), 'k', label=\"true model\")\n",
    "plt.plot(problemFISTA.model.getNdArray(), 'r--', label=\"FISTA\")\n",
    "plt.title('Fast ISTA, λ=%.e' % problemFISTA.lambda_value)\n",
    "plt.ylim(-1, 1)\n",
    "ax.autoscale(enable=True, axis='x', tight=True)\n",
    "plt.grid(True)\n",
    "plt.legend()\n",
    "plt.show()"
   ]
  },
  {
   "cell_type": "markdown",
   "metadata": {},
   "source": [
    "Note that FISTA is able to recover the model's kinematics but not the true amplitude.\n",
    "Indeed, this algorithm is very sensitive to $\\lambda$ parameter.\n",
    "Let's try another solver."
   ]
  },
  {
   "cell_type": "markdown",
   "metadata": {},
   "source": [
    "#### Split-Bregman for LASSO problem"
   ]
  },
  {
   "cell_type": "code",
   "execution_count": null,
   "metadata": {
    "pycharm": {
     "name": "#%%\n"
    }
   },
   "outputs": [],
   "source": [
    "# define the Linear Regularized Problem\n",
    "problemSB = ProblemLinearReg(model.clone().zero(), data, A,\n",
    "                             regsL1=pyOp.IdentityOp(model), epsL1=.1)\n",
    "\n",
    "# instantiate the Split-Bregman solver\n",
    "SB = SplitBregmanSolver(BasicStopper(1000), niter_inner=5, niter_solver=15,\n",
    "                        linear_solver='LSQR', breg_weight=1., warm_start=True)\n",
    "\n",
    "# solve the problem\n",
    "SB.run(problemSB, verbose=True, inner_verbose=False)"
   ]
  },
  {
   "cell_type": "code",
   "execution_count": null,
   "metadata": {
    "pycharm": {
     "name": "#%%\n"
    }
   },
   "outputs": [],
   "source": [
    "fig, ax = plt.subplots(figsize=(12,3))\n",
    "plt.plot(model.getNdArray(), 'k', label=\"true model\")\n",
    "plt.plot(problemFISTA.model.getNdArray(), 'r--', label=\"SB\")\n",
    "plt.title('Split-Bregman, ε=%.e' % problemSB.epsL1)\n",
    "plt.ylim(-1, 1)\n",
    "ax.autoscale(enable=True, axis='x', tight=True)\n",
    "plt.grid(True)\n",
    "plt.legend()\n",
    "plt.show()"
   ]
  },
  {
   "cell_type": "markdown",
   "metadata": {
    "pycharm": {
     "name": "#%% md\n"
    }
   },
   "source": [
    "The results is much better than FISTA output: the dynamics is almost-perfectly recovered.\n"
   ]
  },
  {
   "cell_type": "markdown",
   "metadata": {},
   "source": [
    "##  Example 2:  1D Velocity Deconvolution\n",
    "\n",
    "Now we create a synthetic velocity profile and suppose to have recorded a smooth version of it.\n",
    "The deconvolution problem aims at recovering the sharp model, and this is done by using a Total Variation regularizer."
   ]
  },
  {
   "cell_type": "code",
   "execution_count": null,
   "metadata": {
    "pycharm": {
     "name": "#%%\n"
    }
   },
   "outputs": [],
   "source": [
    "# create the true model\n",
    "nx = 201\n",
    "x = pyVec.vectorIC(np.zeros((nx,), dtype=np.float32)).zero()\n",
    "x.getNdArray()[20:30] = 10.\n",
    "x.getNdArray()[50:75] = -5.\n",
    "x.getNdArray()[100:150] = 2.5\n",
    "x.getNdArray()[175:180] = 7.5\n",
    "\n",
    "# instantiate the blurring operator\n",
    "G = NpOp.GaussianFilter(x, 2.0)\n",
    "\n",
    "# simulate data\n",
    "y = G * x"
   ]
  },
  {
   "cell_type": "code",
   "execution_count": null,
   "metadata": {
    "pycharm": {
     "name": "#%%\n"
    }
   },
   "outputs": [],
   "source": [
    "fig, ax = plt.subplots(figsize=(12, 3))\n",
    "plt.plot(x.getNdArray(), 'k',  label='model')\n",
    "plt.plot(y.getNdArray(), 'b',  label='data')\n",
    "ax.autoscale(enable=True, axis='x', tight=True)\n",
    "plt.ylim(-6, 12)\n",
    "plt.legend()\n",
    "plt.grid(True)\n",
    "plt.tight_layout(.5)\n",
    "plt.show()"
   ]
  },
  {
   "cell_type": "markdown",
   "metadata": {
    "pycharm": {
     "name": "#%% md\n"
    }
   },
   "source": [
    "As we can see, the model presents some flat regions. Let's have a look to its first derivative:"
   ]
  },
  {
   "cell_type": "code",
   "execution_count": null,
   "metadata": {
    "pycharm": {
     "name": "#%%\n"
    }
   },
   "outputs": [],
   "source": [
    "TV = NpOp.Gradient(x)\n",
    "Dx = TV * x"
   ]
  },
  {
   "cell_type": "code",
   "execution_count": null,
   "metadata": {
    "pycharm": {
     "name": "#%%\n"
    }
   },
   "outputs": [],
   "source": [
    "fig, ax = plt.subplots(figsize=(12, 3))\n",
    "plt.plot(x.getNdArray(), 'k',  label='model')\n",
    "plt.plot(Dx.getNdArray(), 'b',  label='gradient')\n",
    "ax.autoscale(enable=True, axis='x', tight=True)\n",
    "plt.ylim(-6, 12)\n",
    "plt.legend()\n",
    "plt.grid(True)\n",
    "plt.tight_layout(.5)\n",
    "plt.show()"
   ]
  },
  {
   "cell_type": "markdown",
   "metadata": {
    "pycharm": {
     "name": "#%% md\n"
    }
   },
   "source": [
    "The model derivative is sparse! We can set up a SplitBregman solver:"
   ]
  },
  {
   "cell_type": "code",
   "execution_count": null,
   "metadata": {
    "pycharm": {
     "name": "#%%\n"
    }
   },
   "outputs": [],
   "source": [
    "problem = ProblemLinearReg(x.clone().zero(), y, G, regsL1=TV, epsL1=.1)\n",
    "\n",
    "SB = SplitBregmanSolver(BasicStopper(1000), niter_inner=5, niter_solver=10,\n",
    "                        linear_solver='LSQR', breg_weight=1., warm_start=True)\n",
    "SB.setDefaults(save_obj=True, save_model=True)\n",
    "\n",
    "SB.run(problem, verbose=True, inner_verbose=False)"
   ]
  },
  {
   "cell_type": "code",
   "execution_count": null,
   "metadata": {
    "pycharm": {
     "name": "#%%\n"
    }
   },
   "outputs": [],
   "source": [
    "fig, ax = plt.subplots(figsize=(12, 3))\n",
    "plt.plot(x.getNdArray(), 'k', label=\"true model\")\n",
    "plt.plot(problem.model.getNdArray(), 'r--', label=\"SB\")\n",
    "plt.title('Split-Bregman, ε=%.e' % problem.epsL1)\n",
    "plt.ylim(-6, 12)\n",
    "ax.autoscale(enable=True, axis='x', tight=True)\n",
    "plt.grid(True)\n",
    "plt.legend()\n",
    "plt.tight_layout(.5)\n",
    "plt.show()"
   ]
  },
  {
   "cell_type": "markdown",
   "metadata": {},
   "source": [
    "##  Example 3: 2D Phantom Deconvolution\n",
    "\n",
    "In this example we reconstruct a phantom CT image starting from a blurred acquisition.\n",
    "Again, we regularize the inversion by imposing the first derivative to be sparse.\n",
    "\n",
    "Model:"
   ]
  },
  {
   "cell_type": "code",
   "execution_count": null,
   "metadata": {
    "pycharm": {
     "name": "#%%\n"
    }
   },
   "outputs": [],
   "source": [
    "x = pyVec.vectorIC(np.load('../testdata/shepp_logan_phantom.npy', allow_pickle=True).astype(np.float32))\n",
    "x = x.scale(1 / 255.)\n",
    "\n",
    "plt.figure(figsize=(5, 4))\n",
    "plt.imshow(x.getNdArray(), cmap='bone', vmin=x.min(), vmax=x.max()), plt.colorbar()\n",
    "plt.title('Model')\n",
    "plt.tight_layout(.5)\n",
    "plt.show()"
   ]
  },
  {
   "cell_type": "markdown",
   "metadata": {
    "pycharm": {
     "name": "#%% md\n"
    }
   },
   "source": [
    "Data:"
   ]
  },
  {
   "cell_type": "code",
   "execution_count": null,
   "metadata": {
    "pycharm": {
     "name": "#%%\n"
    }
   },
   "outputs": [],
   "source": [
    "Op = NpOp.GaussianFilter(x, [3, 3])\n",
    "y = Op * x\n",
    "\n",
    "plt.figure(figsize=(5, 4))\n",
    "plt.imshow(y.getNdArray(), cmap='bone', vmin=x.min(), vmax=x.max()), plt.colorbar()\n",
    "plt.title('Data')\n",
    "plt.tight_layout(.5)\n",
    "plt.show()"
   ]
  },
  {
   "cell_type": "markdown",
   "metadata": {
    "pycharm": {
     "name": "#%% md\n"
    }
   },
   "source": [
    "Problem and solver:"
   ]
  },
  {
   "cell_type": "code",
   "execution_count": null,
   "metadata": {
    "pycharm": {
     "name": "#%%\n"
    }
   },
   "outputs": [],
   "source": [
    "G = NpOp.Gradient(x)\n",
    "\n",
    "x_grad = G*x\n",
    "plt.imshow(x_grad.vecs[1].getNdArray(), cmap='gray'), plt.colorbar(), plt.title('Gx'), plt.show()\n",
    "plt.imshow(x_grad.vecs[0].getNdArray(), cmap='gray'), plt.colorbar(), plt.title('Gz'), plt.show()\n",
    "\n",
    "# Anisotropic TV\n",
    "x_grad_aniso = x.clone().zero()\n",
    "G.merge_directions(False, x_grad, x_grad_aniso, iso=False)\n",
    "plt.figure(figsize=(5, 4))\n",
    "plt.imshow(x_grad_aniso.getNdArray(), cmap='gray'), plt.colorbar()\n",
    "plt.title('Sum of G')\n",
    "plt.show()"
   ]
  },
  {
   "cell_type": "code",
   "execution_count": null,
   "metadata": {
    "pycharm": {
     "name": "#%%\n"
    }
   },
   "outputs": [],
   "source": [
    "problemSB = ProblemLinearReg(x.clone().zero(), y, Op, regsL1=G, epsL1=1e-3)\n",
    "SB = SplitBregmanSolver(BasicStopper(niter=200), niter_inner=5, niter_solver=15,\n",
    "                        linear_solver='LSQR', breg_weight=1., warm_start=True)\n",
    "SB.setDefaults(save_obj=True, save_model=True)\n",
    "SB.run(problemSB, verbose=True, inner_verbose=False)"
   ]
  },
  {
   "cell_type": "code",
   "execution_count": null,
   "metadata": {
    "pycharm": {
     "name": "#%%\n"
    }
   },
   "outputs": [],
   "source": [
    "plt.figure(figsize=(5, 4))\n",
    "plt.imshow(problemSB.model.getNdArray(), cmap='bone', vmin=x.min(), vmax=x.max()), plt.colorbar()\n",
    "plt.title(r'SB TV, $\\varepsilon=%.e$, %d iter' % (problemSB.epsL1[0], SB.stopper.niter))\n",
    "plt.tight_layout(.5)\n",
    "plt.show()"
   ]
  },
  {
   "cell_type": "code",
   "execution_count": null,
   "metadata": {
    "pycharm": {
     "name": "#%%\n"
    }
   },
   "outputs": [],
   "source": [
    "plt.figure(figsize=(5, 4))\n",
    "plt.semilogy(SB.obj / SB.obj[0], 'b', lw=3, label='Obj')\n",
    "plt.semilogy(np.asarray(SB.obj_terms)[:, 0] / SB.obj[0], 'r--', label='0.5 $\\Vert\\cdot\\Vert_2^2$')\n",
    "plt.semilogy(np.asarray(SB.obj_terms)[:, 1] / SB.obj[0], 'y--', label='ε $\\Vert\\cdot\\Vert_1$')\n",
    "plt.legend()\n",
    "plt.grid(True)\n",
    "plt.tight_layout(.5)\n",
    "plt.title('Convergence curve')\n",
    "plt.show()"
   ]
  }
 ],
 "metadata": {
  "kernelspec": {
   "display_name": "Python 3",
   "language": "python",
   "name": "python3"
  },
  "language_info": {
   "codemirror_mode": {
    "name": "ipython",
    "version": 3
   },
   "file_extension": ".py",
   "mimetype": "text/x-python",
   "name": "python",
   "nbconvert_exporter": "python",
   "pygments_lexer": "ipython3",
   "version": "3.7.3"
  }
 },
 "nbformat": 4,
 "nbformat_minor": 1
}